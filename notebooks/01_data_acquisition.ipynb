{
 "cells": [
  {
   "cell_type": "markdown",
   "metadata": {},
   "source": [
    "# 01 - Adquisición de Datos: Dólar Observado BCCh\n",
    "\n",
    "Este notebook descarga y procesa datos históricos del tipo de cambio USD/CLP desde el Banco Central de Chile.\n",
    "\n",
    "## Objetivos\n",
    "- Descargar 30 años de datos históricos (1995-2025)\n",
    "- Procesar y guardar en formato CSV\n",
    "- Verificar calidad de datos\n",
    "- Generar resumen estadístico inicial"
   ]
  },
  {
   "cell_type": "markdown",
   "metadata": {},
   "source": [
    "## 1. Setup y Configuración"
   ]
  },
  {
   "cell_type": "code",
   "execution_count": null,
   "metadata": {},
   "outputs": [],
   "source": [
    "import os\n",
    "import sys\n",
    "\n",
    "# Agregar src al path para importar módulos\n",
    "sys.path.append(os.path.abspath('..'))\n",
    "\n",
    "from src.data.fetch_bcch import fetch_dolar_observado\n",
    "from src.data.preprocess import process_and_save\n",
    "\n",
    "import pandas as pd\n",
    "import matplotlib.pyplot as plt\n",
    "import seaborn as sns\n",
    "\n",
    "# Configuración de visualización\n",
    "plt.style.use('seaborn-v0_8-darkgrid')\n",
    "sns.set_palette(\"husl\")\n",
    "%matplotlib inline\n",
    "\n",
    "print(\" Librerías importadas correctamente\")"
   ]
  },
  {
   "cell_type": "code",
   "execution_count": null,
   "metadata": {},
   "outputs": [],
   "source": [
    "# Configurar credenciales (asegúrate de tener las variables de entorno configuradas)\n",
    "# export BC_USER=\"tu_email@ejemplo.com\"\n",
    "# export BC_PASS=\"tu_contraseña\"\n",
    "\n",
    "# Verificar que estén configuradas\n",
    "bc_user = os.environ.get('BC_USER')\n",
    "bc_pass = os.environ.get('BC_PASS')\n",
    "\n",
    "if bc_user and bc_pass:\n",
    "    print(f\" Credenciales configuradas para: {bc_user}\")\n",
    "else:\n",
    "    print(\" ERROR: Credenciales no configuradas\")\n",
    "    print(\"Por favor configura las variables de entorno BC_USER y BC_PASS\")"
   ]
  },
  {
   "cell_type": "markdown",
   "metadata": {},
   "source": [
    "## 2. Descarga de Datos"
   ]
  },
  {
   "cell_type": "code",
   "execution_count": null,
   "metadata": {},
   "outputs": [],
   "source": [
    "# Descargar datos de los últimos 30 años\n",
    "print(\"Descargando datos del Banco Central de Chile...\")\n",
    "print(\"Serie: F073.TCO.PRE.Z.D (Dólar observado diario)\")\n",
    "print(\"Período: Últimos 30 años\\n\")\n",
    "\n",
    "data = fetch_dolar_observado(years_back=30, verbose=True)"
   ]
  },
  {
   "cell_type": "markdown",
   "metadata": {},
   "source": [
    "## 3. Procesamiento y Guardado"
   ]
  },
  {
   "cell_type": "code",
   "execution_count": null,
   "metadata": {},
   "outputs": [],
   "source": [
    "# Procesar JSON -> DataFrame -> CSV\n",
    "print(\"\\nProcesando datos...\")\n",
    "df = process_and_save(data, verbose=True)"
   ]
  },
  {
   "cell_type": "markdown",
   "metadata": {},
   "source": [
    "## 4. Inspección Inicial de Datos"
   ]
  },
  {
   "cell_type": "code",
   "execution_count": null,
   "metadata": {},
   "outputs": [],
   "source": [
    "# Información general del DataFrame\n",
    "print(\"\\n\" + \"=\"*60)\n",
    "print(\"INFORMACIÓN DEL DATASET\")\n",
    "print(\"=\"*60)\n",
    "df.info()"
   ]
  },
  {
   "cell_type": "code",
   "execution_count": null,
   "metadata": {},
   "outputs": [],
   "source": [
    "# Estadísticas descriptivas\n",
    "print(\"\\n\" + \"=\"*60)\n",
    "print(\"ESTADÍSTICAS DESCRIPTIVAS\")\n",
    "print(\"=\"*60)\n",
    "df.describe()"
   ]
  },
  {
   "cell_type": "code",
   "execution_count": null,
   "metadata": {},
   "outputs": [],
   "source": [
    "# Análisis de valores faltantes\n",
    "print(\"\\n\" + \"=\"*60)\n",
    "print(\"ANÁLISIS DE VALORES FALTANTES\")\n",
    "print(\"=\"*60)\n",
    "\n",
    "total_rows = len(df)\n",
    "missing_values = df['Valor'].isna().sum()\n",
    "valid_values = df['Valor'].notna().sum()\n",
    "\n",
    "print(f\"Total de registros: {total_rows:,}\")\n",
    "print(f\"Valores válidos: {valid_values:,} ({valid_values/total_rows*100:.2f}%)\")\n",
    "print(f\"Valores faltantes (NaN): {missing_values:,} ({missing_values/total_rows*100:.2f}%)\")\n",
    "\n",
    "if 'statusCode' in df.columns:\n",
    "    status_counts = df['statusCode'].value_counts()\n",
    "    print(\"\\nDistribución por statusCode:\")\n",
    "    print(status_counts)"
   ]
  },
  {
   "cell_type": "markdown",
   "metadata": {},
   "source": [
    "## 5. Visualización Inicial"
   ]
  },
  {
   "cell_type": "code",
   "execution_count": null,
   "metadata": {},
   "outputs": [],
   "source": [
    "# Gráfico de serie temporal completa\n",
    "plt.figure(figsize=(16, 6))\n",
    "plt.plot(df.index, df['Valor'], linewidth=0.8, alpha=0.8)\n",
    "plt.title('Tipo de Cambio USD/CLP (1995-2025)', fontsize=16, fontweight='bold')\n",
    "plt.xlabel('Fecha', fontsize=12)\n",
    "plt.ylabel('Valor CLP', fontsize=12)\n",
    "plt.grid(True, alpha=0.3)\n",
    "plt.tight_layout()\n",
    "plt.show()\n",
    "\n",
    "print(f\"\\nValor mínimo histórico: ${df['Valor'].min():.2f} CLP\")\n",
    "print(f\"Valor máximo histórico: ${df['Valor'].max():.2f} CLP\")\n",
    "print(f\"Valor actual (último): ${df['Valor'].iloc[-1]:.2f} CLP\")"
   ]
  },
  {
   "cell_type": "code",
   "execution_count": null,
   "metadata": {},
   "outputs": [],
   "source": [
    "# Distribución de valores\n",
    "plt.figure(figsize=(12, 5))\n",
    "\n",
    "plt.subplot(1, 2, 1)\n",
    "plt.hist(df['Valor'].dropna(), bins=50, edgecolor='black', alpha=0.7)\n",
    "plt.title('Distribución de Valores USD/CLP', fontsize=14, fontweight='bold')\n",
    "plt.xlabel('Valor CLP', fontsize=11)\n",
    "plt.ylabel('Frecuencia', fontsize=11)\n",
    "plt.grid(True, alpha=0.3)\n",
    "\n",
    "plt.subplot(1, 2, 2)\n",
    "plt.boxplot(df['Valor'].dropna(), vert=True)\n",
    "plt.title('Boxplot USD/CLP', fontsize=14, fontweight='bold')\n",
    "plt.ylabel('Valor CLP', fontsize=11)\n",
    "plt.grid(True, alpha=0.3)\n",
    "\n",
    "plt.tight_layout()\n",
    "plt.show()"
   ]
  },
  {
   "cell_type": "markdown",
   "metadata": {},
   "source": [
    "## 6. Resumen Final"
   ]
  },
  {
   "cell_type": "code",
   "execution_count": null,
   "metadata": {},
   "outputs": [],
   "source": [
    "print(\"\\n\" + \"=\"*60)\n",
    "print(\"RESUMEN DE DESCARGA\")\n",
    "print(\"=\"*60)\n",
    "\n",
    "print(f\"\\n Datos descargados exitosamente\")\n",
    "print(f\" Archivo guardado en: data/raw/dolar_bcch.csv\")\n",
    "print(f\" Total de observaciones: {len(df):,}\")\n",
    "print(f\" Rango de fechas: {df.index.min().date()} a {df.index.max().date()}\")\n",
    "print(f\" Tamaño del archivo: {os.path.getsize('../data/raw/dolar_bcch.csv') / 1024:.2f} KB\")\n",
    "\n",
    "print(\"\\n Listo para continuar con el EDA (Análisis Exploratorio)\")\n",
    "print(\"Siguiente notebook: 02_eda.ipynb\")"
   ]
  }
 ],
 "metadata": {
  "kernelspec": {
   "display_name": "Python 3",
   "language": "python",
   "name": "python3"
  },
  "language_info": {
   "codemirror_mode": {
    "name": "ipython",
    "version": 3
   },
   "file_extension": ".py",
   "mimetype": "text/x-python",
   "name": "python",
   "nbconvert_exporter": "python",
   "pygments_lexer": "ipython3",
   "version": "3.12.0"
  }
 },
 "nbformat": 4,
 "nbformat_minor": 4
}