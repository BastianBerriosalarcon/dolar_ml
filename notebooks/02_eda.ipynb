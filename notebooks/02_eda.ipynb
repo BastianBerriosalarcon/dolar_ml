{
 "cells": [
  {
   "cell_type": "markdown",
   "metadata": {},
   "source": [
    "# 02 - Análisis Exploratorio de Datos (EDA)\n",
    "\n",
    "Análisis exhaustivo de la serie temporal USD/CLP para entender:\n",
    "- Tendencias y estacionalidad\n",
    "- Volatilidad y outliers\n",
    "- Estacionaridad\n",
    "- Patrones temporales"
   ]
  },
  {
   "cell_type": "markdown",
   "metadata": {},
   "source": [
    "## 1. Setup e Importación de Datos"
   ]
  },
  {
   "cell_type": "code",
   "execution_count": null,
   "metadata": {},
   "outputs": [],
   "source": [
    "import pandas as pd\n",
    "import numpy as np\n",
    "import matplotlib.pyplot as plt\n",
    "import seaborn as sns\n",
    "from datetime import datetime, timedelta\n",
    "\n",
    "# Configuración\n",
    "plt.style.use('seaborn-v0_8-darkgrid')\n",
    "sns.set_palette(\"husl\")\n",
    "plt.rcParams['figure.figsize'] = (14, 6)\n",
    "%matplotlib inline\n",
    "\n",
    "# Configurar pandas para mejor visualización\n",
    "pd.set_option('display.max_columns', None)\n",
    "pd.set_option('display.precision', 2)\n",
    "\n",
    "print(\" Librerías cargadas\")"
   ]
  },
  {
   "cell_type": "code",
   "execution_count": null,
   "metadata": {},
   "outputs": [],
   "source": [
    "# Cargar datos\n",
    "df = pd.read_csv('../data/raw/dolar_bcch.csv', index_col='Fecha', parse_dates=True)\n",
    "print(f\" Datos cargados: {len(df):,} registros\")\n",
    "print(f\" Rango: {df.index.min().date()} a {df.index.max().date()}\")\n",
    "df.head()"
   ]
  },
  {
   "cell_type": "markdown",
   "metadata": {},
   "source": [
    "## 2. Resumen Estadístico"
   ]
  },
  {
   "cell_type": "code",
   "execution_count": null,
   "metadata": {},
   "outputs": [],
   "source": [
    "# Información general\n",
    "print(\"=\"*70)\n",
    "print(\"INFORMACIÓN DEL DATASET\")\n",
    "print(\"=\"*70)\n",
    "df.info()\n",
    "\n",
    "print(\"\\n\" + \"=\"*70)\n",
    "print(\"ESTADÍSTICAS DESCRIPTIVAS\")\n",
    "print(\"=\"*70)\n",
    "print(df['Valor'].describe())\n",
    "\n",
    "print(\"\\n\" + \"=\"*70)\n",
    "print(\"VALORES FALTANTES\")\n",
    "print(\"=\"*70)\n",
    "missing = df['Valor'].isna().sum()\n",
    "total = len(df)\n",
    "print(f\"Total: {total:,}\")\n",
    "print(f\"Valores válidos: {total - missing:,} ({(total-missing)/total*100:.2f}%)\")\n",
    "print(f\"Valores faltantes: {missing:,} ({missing/total*100:.2f}%)\")"
   ]
  },
  {
   "cell_type": "markdown",
   "metadata": {},
   "source": [
    "## 3. Visualización de Serie Temporal"
   ]
  },
  {
   "cell_type": "code",
   "execution_count": null,
   "metadata": {},
   "outputs": [],
   "source": [
    "# Serie temporal completa\n",
    "fig, axes = plt.subplots(2, 1, figsize=(16, 10))\n",
    "\n",
    "# Gráfico principal\n",
    "axes[0].plot(df.index, df['Valor'], linewidth=0.8, alpha=0.9, color='steelblue')\n",
    "axes[0].set_title('Serie Temporal USD/CLP (1995-2025)', fontsize=16, fontweight='bold')\n",
    "axes[0].set_ylabel('Valor CLP', fontsize=12)\n",
    "axes[0].grid(True, alpha=0.3)\n",
    "axes[0].axhline(y=df['Valor'].mean(), color='r', linestyle='--', alpha=0.5, label=f'Media: ${df[\"Valor\"].mean():.2f}')\n",
    "axes[0].legend()\n",
    "\n",
    "# Últimos 5 años con más detalle\n",
    "df_recent = df.loc[df.index >= (df.index.max() - pd.Timedelta(days=365*5))]\n",
    "axes[1].plot(df_recent.index, df_recent['Valor'], linewidth=1.2, color='darkgreen')\n",
    "axes[1].set_title('Últimos 5 Años (Detalle)', fontsize=14, fontweight='bold')\n",
    "axes[1].set_xlabel('Fecha', fontsize=12)\n",
    "axes[1].set_ylabel('Valor CLP', fontsize=12)\n",
    "axes[1].grid(True, alpha=0.3)\n",
    "\n",
    "plt.tight_layout()\n",
    "plt.show()\n",
    "\n",
    "print(f\"Valor mínimo histórico: ${df['Valor'].min():.2f} CLP ({df['Valor'].idxmin().date()})\")\n",
    "print(f\"Valor máximo histórico: ${df['Valor'].max():.2f} CLP ({df['Valor'].idxmax().date()})\")\n",
    "print(f\"Valor promedio: ${df['Valor'].mean():.2f} CLP\")\n",
    "print(f\"Desviación estándar: ${df['Valor'].std():.2f} CLP\")"
   ]
  },
  {
   "cell_type": "markdown",
   "metadata": {},
   "source": [
    "## 4. Distribución de Valores"
   ]
  },
  {
   "cell_type": "code",
   "execution_count": null,
   "metadata": {},
   "outputs": [],
   "source": [
    "fig, axes = plt.subplots(1, 3, figsize=(18, 5))\n",
    "\n",
    "# Histograma\n",
    "axes[0].hist(df['Valor'].dropna(), bins=60, edgecolor='black', alpha=0.7, color='skyblue')\n",
    "axes[0].axvline(df['Valor'].mean(), color='red', linestyle='--', linewidth=2, label='Media')\n",
    "axes[0].axvline(df['Valor'].median(), color='green', linestyle='--', linewidth=2, label='Mediana')\n",
    "axes[0].set_title('Distribución de Valores USD/CLP', fontsize=13, fontweight='bold')\n",
    "axes[0].set_xlabel('Valor CLP')\n",
    "axes[0].set_ylabel('Frecuencia')\n",
    "axes[0].legend()\n",
    "axes[0].grid(True, alpha=0.3)\n",
    "\n",
    "# Boxplot\n",
    "axes[1].boxplot(df['Valor'].dropna(), vert=True, patch_artist=True,\n",
    "                boxprops=dict(facecolor='lightblue', alpha=0.7))\n",
    "axes[1].set_title('Boxplot USD/CLP', fontsize=13, fontweight='bold')\n",
    "axes[1].set_ylabel('Valor CLP')\n",
    "axes[1].grid(True, alpha=0.3)\n",
    "\n",
    "# Q-Q Plot (aproximado con scatter)\n",
    "from scipy import stats\n",
    "stats.probplot(df['Valor'].dropna(), dist=\"norm\", plot=axes[2])\n",
    "axes[2].set_title('Q-Q Plot (Normalidad)', fontsize=13, fontweight='bold')\n",
    "axes[2].grid(True, alpha=0.3)\n",
    "\n",
    "plt.tight_layout()\n",
    "plt.show()\n",
    "\n",
    "# Test de normalidad\n",
    "from scipy.stats import shapiro, normaltest\n",
    "stat_shapiro, p_shapiro = shapiro(df['Valor'].dropna().sample(5000))  # Muestra para Shapiro\n",
    "print(f\"\\nTest de Shapiro-Wilk: p-value = {p_shapiro:.6f}\")\n",
    "if p_shapiro < 0.05:\n",
    "    print(\" Los datos NO siguen una distribución normal (p < 0.05)\")\n",
    "else:\n",
    "    print(\" Los datos siguen una distribución normal (p >= 0.05)\")"
   ]
  },
  {
   "cell_type": "markdown",
   "metadata": {},
   "source": [
    "## 5. Análisis de Tendencia y Estacionalidad"
   ]
  },
  {
   "cell_type": "code",
   "execution_count": null,
   "metadata": {},
   "outputs": [],
   "source": [
    "# Promedios móviles\n",
    "df['MA_7'] = df['Valor'].rolling(window=7).mean()\n",
    "df['MA_30'] = df['Valor'].rolling(window=30).mean()\n",
    "df['MA_90'] = df['Valor'].rolling(window=90).mean()\n",
    "\n",
    "plt.figure(figsize=(16, 7))\n",
    "plt.plot(df.index, df['Valor'], linewidth=0.5, alpha=0.5, label='Valor Diario', color='lightgray')\n",
    "plt.plot(df.index, df['MA_7'], linewidth=1.2, label='MA(7)', color='blue')\n",
    "plt.plot(df.index, df['MA_30'], linewidth=1.5, label='MA(30)', color='orange')\n",
    "plt.plot(df.index, df['MA_90'], linewidth=2, label='MA(90)', color='red')\n",
    "plt.title('Tendencia USD/CLP - Promedios Móviles', fontsize=16, fontweight='bold')\n",
    "plt.xlabel('Fecha', fontsize=12)\n",
    "plt.ylabel('Valor CLP', fontsize=12)\n",
    "plt.legend(loc='best', fontsize=11)\n",
    "plt.grid(True, alpha=0.3)\n",
    "plt.tight_layout()\n",
    "plt.show()"
   ]
  },
  {
   "cell_type": "code",
   "execution_count": null,
   "metadata": {},
   "outputs": [],
   "source": [
    "# Análisis por año\n",
    "df['Year'] = df.index.year\n",
    "df['Month'] = df.index.month\n",
    "df['DayOfWeek'] = df.index.dayofweek\n",
    "\n",
    "fig, axes = plt.subplots(1, 2, figsize=(16, 5))\n",
    "\n",
    "# Boxplot por año\n",
    "yearly_data = [df[df['Year'] == year]['Valor'].dropna() for year in sorted(df['Year'].unique())]\n",
    "bp = axes[0].boxplot(yearly_data, labels=sorted(df['Year'].unique()), patch_artist=True)\n",
    "for patch in bp['boxes']:\n",
    "    patch.set_facecolor('lightblue')\n",
    "    patch.set_alpha(0.7)\n",
    "axes[0].set_title('Distribución USD/CLP por Año', fontsize=14, fontweight='bold')\n",
    "axes[0].set_xlabel('Año')\n",
    "axes[0].set_ylabel('Valor CLP')\n",
    "axes[0].tick_params(axis='x', rotation=45)\n",
    "axes[0].grid(True, alpha=0.3)\n",
    "\n",
    "# Promedio por mes\n",
    "monthly_avg = df.groupby('Month')['Valor'].mean()\n",
    "axes[1].bar(monthly_avg.index, monthly_avg.values, color='coral', alpha=0.7, edgecolor='black')\n",
    "axes[1].set_title('Promedio USD/CLP por Mes (Histórico)', fontsize=14, fontweight='bold')\n",
    "axes[1].set_xlabel('Mes')\n",
    "axes[1].set_ylabel('Valor Promedio CLP')\n",
    "axes[1].set_xticks(range(1, 13))\n",
    "axes[1].set_xticklabels(['Ene', 'Feb', 'Mar', 'Abr', 'May', 'Jun', 'Jul', 'Ago', 'Sep', 'Oct', 'Nov', 'Dic'])\n",
    "axes[1].grid(True, alpha=0.3, axis='y')\n",
    "\n",
    "plt.tight_layout()\n",
    "plt.show()"
   ]
  },
  {
   "cell_type": "markdown",
   "metadata": {},
   "source": [
    "## 6. Análisis de Volatilidad"
   ]
  },
  {
   "cell_type": "code",
   "execution_count": null,
   "metadata": {},
   "outputs": [],
   "source": [
    "# Retornos diarios\n",
    "df['Returns'] = df['Valor'].pct_change() * 100  # Porcentaje\n",
    "df['Returns_Abs'] = df['Returns'].abs()\n",
    "\n",
    "# Volatilidad móvil\n",
    "df['Volatility_30'] = df['Returns'].rolling(window=30).std()\n",
    "\n",
    "fig, axes = plt.subplots(3, 1, figsize=(16, 12))\n",
    "\n",
    "# Precio\n",
    "axes[0].plot(df.index, df['Valor'], linewidth=0.8, color='steelblue')\n",
    "axes[0].set_title('Precio USD/CLP', fontsize=13, fontweight='bold')\n",
    "axes[0].set_ylabel('CLP')\n",
    "axes[0].grid(True, alpha=0.3)\n",
    "\n",
    "# Retornos diarios\n",
    "axes[1].plot(df.index, df['Returns'], linewidth=0.6, color='green', alpha=0.7)\n",
    "axes[1].axhline(y=0, color='black', linestyle='--', linewidth=0.8)\n",
    "axes[1].set_title('Retornos Diarios (%)', fontsize=13, fontweight='bold')\n",
    "axes[1].set_ylabel('Retorno %')\n",
    "axes[1].grid(True, alpha=0.3)\n",
    "\n",
    "# Volatilidad\n",
    "axes[2].plot(df.index, df['Volatility_30'], linewidth=1.2, color='red')\n",
    "axes[2].set_title('Volatilidad (30 días)', fontsize=13, fontweight='bold')\n",
    "axes[2].set_xlabel('Fecha')\n",
    "axes[2].set_ylabel('Volatilidad %')\n",
    "axes[2].grid(True, alpha=0.3)\n",
    "\n",
    "plt.tight_layout()\n",
    "plt.show()\n",
    "\n",
    "print(f\"\\nRetorno diario promedio: {df['Returns'].mean():.4f}%\")\n",
    "print(f\"Volatilidad promedio (30d): {df['Volatility_30'].mean():.4f}%\")\n",
    "print(f\"Retorno máximo: {df['Returns'].max():.2f}% ({df['Returns'].idxmax().date()})\")\n",
    "print(f\"Retorno mínimo: {df['Returns'].min():.2f}% ({df['Returns'].idxmin().date()})\")"
   ]
  },
  {
   "cell_type": "markdown",
   "metadata": {},
   "source": [
    "## 7. Test de Estacionaridad (ADF)"
   ]
  },
  {
   "cell_type": "code",
   "execution_count": null,
   "metadata": {},
   "outputs": [],
   "source": [
    "from statsmodels.tsa.stattools import adfuller\n",
    "\n",
    "def test_stationarity(series, name='Serie'):\n",
    "    \"\"\"Realiza el test Augmented Dickey-Fuller.\"\"\"\n",
    "    result = adfuller(series.dropna(), autolag='AIC')\n",
    "    \n",
    "    print(f\"\\n{'='*70}\")\n",
    "    print(f\"TEST DE ESTACIONARIDAD (ADF) - {name}\")\n",
    "    print(f\"{'='*70}\")\n",
    "    print(f\"ADF Statistic: {result[0]:.6f}\")\n",
    "    print(f\"p-value: {result[1]:.6f}\")\n",
    "    print(f\"Lags utilizados: {result[2]}\")\n",
    "    print(f\"Observaciones: {result[3]}\")\n",
    "    print(\"\\nValores críticos:\")\n",
    "    for key, value in result[4].items():\n",
    "        print(f\"  {key}: {value:.4f}\")\n",
    "    \n",
    "    if result[1] < 0.05:\n",
    "        print(f\"\\n La serie ES ESTACIONARIA (p-value < 0.05)\")\n",
    "    else:\n",
    "        print(f\"\\n La serie NO ES ESTACIONARIA (p-value >= 0.05)\")\n",
    "        print(\"   Considerar diferenciación o transformación logarítmica\")\n",
    "    \n",
    "    return result\n",
    "\n",
    "# Test en serie original\n",
    "test_stationarity(df['Valor'], 'Valor USD/CLP')\n",
    "\n",
    "# Test en retornos\n",
    "test_stationarity(df['Returns'], 'Retornos Diarios')"
   ]
  },
  {
   "cell_type": "markdown",
   "metadata": {},
   "source": [
    "## 8. Autocorrelación"
   ]
  },
  {
   "cell_type": "code",
   "execution_count": null,
   "metadata": {},
   "outputs": [],
   "source": [
    "from statsmodels.graphics.tsaplots import plot_acf, plot_pacf\n",
    "\n",
    "fig, axes = plt.subplots(2, 2, figsize=(16, 10))\n",
    "\n",
    "# ACF y PACF del valor\n",
    "plot_acf(df['Valor'].dropna(), lags=50, ax=axes[0, 0])\n",
    "axes[0, 0].set_title('ACF - Valor USD/CLP', fontsize=12, fontweight='bold')\n",
    "\n",
    "plot_pacf(df['Valor'].dropna(), lags=50, ax=axes[0, 1])\n",
    "axes[0, 1].set_title('PACF - Valor USD/CLP', fontsize=12, fontweight='bold')\n",
    "\n",
    "# ACF y PACF de retornos\n",
    "plot_acf(df['Returns'].dropna(), lags=50, ax=axes[1, 0])\n",
    "axes[1, 0].set_title('ACF - Retornos', fontsize=12, fontweight='bold')\n",
    "\n",
    "plot_pacf(df['Returns'].dropna(), lags=50, ax=axes[1, 1])\n",
    "axes[1, 1].set_title('PACF - Retornos', fontsize=12, fontweight='bold')\n",
    "\n",
    "plt.tight_layout()\n",
    "plt.show()"
   ]
  },
  {
   "cell_type": "markdown",
   "metadata": {},
   "source": [
    "## 9. Detección de Outliers"
   ]
  },
  {
   "cell_type": "code",
   "execution_count": null,
   "metadata": {},
   "outputs": [],
   "source": [
    "# Outliers usando IQR\n",
    "Q1 = df['Valor'].quantile(0.25)\n",
    "Q3 = df['Valor'].quantile(0.75)\n",
    "IQR = Q3 - Q1\n",
    "\n",
    "lower_bound = Q1 - 1.5 * IQR\n",
    "upper_bound = Q3 + 1.5 * IQR\n",
    "\n",
    "outliers = df[(df['Valor'] < lower_bound) | (df['Valor'] > upper_bound)]\n",
    "\n",
    "print(f\"\\n{'='*70}\")\n",
    "print(\"DETECCIÓN DE OUTLIERS (Método IQR)\")\n",
    "print(f\"{'='*70}\")\n",
    "print(f\"Q1: ${Q1:.2f}\")\n",
    "print(f\"Q3: ${Q3:.2f}\")\n",
    "print(f\"IQR: ${IQR:.2f}\")\n",
    "print(f\"Límite inferior: ${lower_bound:.2f}\")\n",
    "print(f\"Límite superior: ${upper_bound:.2f}\")\n",
    "print(f\"\\nOutliers detectados: {len(outliers)} ({len(outliers)/len(df)*100:.2f}%)\")\n",
    "\n",
    "if len(outliers) > 0:\n",
    "    print(\"\\nPrimeros 10 outliers:\")\n",
    "    print(outliers[['Valor']].head(10))\n",
    "\n",
    "# Visualización\n",
    "plt.figure(figsize=(16, 6))\n",
    "plt.plot(df.index, df['Valor'], linewidth=0.8, color='steelblue', label='Valores normales')\n",
    "plt.scatter(outliers.index, outliers['Valor'], color='red', s=30, label=f'Outliers ({len(outliers)})', zorder=5)\n",
    "plt.axhline(y=upper_bound, color='red', linestyle='--', alpha=0.5, label='Límites IQR')\n",
    "plt.axhline(y=lower_bound, color='red', linestyle='--', alpha=0.5)\n",
    "plt.title('Detección de Outliers - USD/CLP', fontsize=16, fontweight='bold')\n",
    "plt.xlabel('Fecha', fontsize=12)\n",
    "plt.ylabel('Valor CLP', fontsize=12)\n",
    "plt.legend()\n",
    "plt.grid(True, alpha=0.3)\n",
    "plt.tight_layout()\n",
    "plt.show()"
   ]
  },
  {
   "cell_type": "markdown",
   "metadata": {},
   "source": [
    "## 10. Resumen y Conclusiones"
   ]
  },
  {
   "cell_type": "code",
   "execution_count": null,
   "metadata": {},
   "outputs": [],
   "source": [
    "print(\"\\n\" + \"=\"*70)\n",
    "print(\"RESUMEN DEL ANÁLISIS EXPLORATORIO\")\n",
    "print(\"=\"*70)\n",
    "\n",
    "print(\"\\n ESTADÍSTICAS GENERALES:\")\n",
    "print(f\"  • Total de observaciones: {len(df):,}\")\n",
    "print(f\"  • Rango de fechas: {df.index.min().date()} a {df.index.max().date()}\")\n",
    "print(f\"  • Valores válidos: {df['Valor'].notna().sum():,} ({df['Valor'].notna().sum()/len(df)*100:.2f}%)\")\n",
    "print(f\"  • Valores faltantes: {df['Valor'].isna().sum():,} ({df['Valor'].isna().sum()/len(df)*100:.2f}%)\")\n",
    "\n",
    "print(\"\\n VALORES USD/CLP:\")\n",
    "print(f\"  • Mínimo: ${df['Valor'].min():.2f}\")\n",
    "print(f\"  • Máximo: ${df['Valor'].max():.2f}\")\n",
    "print(f\"  • Promedio: ${df['Valor'].mean():.2f}\")\n",
    "print(f\"  • Mediana: ${df['Valor'].median():.2f}\")\n",
    "print(f\"  • Desviación estándar: ${df['Valor'].std():.2f}\")\n",
    "\n",
    "print(\"\\n VOLATILIDAD:\")\n",
    "print(f\"  • Retorno diario promedio: {df['Returns'].mean():.4f}%\")\n",
    "print(f\"  • Volatilidad promedio (30d): {df['Volatility_30'].mean():.4f}%\")\n",
    "print(f\"  • Retorno máximo: {df['Returns'].max():.2f}%\")\n",
    "print(f\"  • Retorno mínimo: {df['Returns'].min():.2f}%\")\n",
    "\n",
    "print(\"\\n OUTLIERS:\")\n",
    "print(f\"  • Outliers detectados: {len(outliers)} ({len(outliers)/len(df)*100:.2f}%)\")\n",
    "\n",
    "print(\"\\n PRÓXIMOS PASOS:\")\n",
    "print(\"  1. Feature Engineering (crear variables lag, MA, etc.)\")\n",
    "print(\"  2. Manejo de valores faltantes (forward fill)\")\n",
    "print(\"  3. Creación de features temporales (día, mes, trimestre)\")\n",
    "print(\"  4. Preparación de datos para modelado\")\n",
    "print(\"\\nSiguiente notebook: 03_feature_engineering.ipynb\")"
   ]
  }
 ],
 "metadata": {
  "kernelspec": {
   "display_name": "Python 3",
   "language": "python",
   "name": "python3"
  },
  "language_info": {
   "codemirror_mode": {
    "name": "ipython",
    "version": 3
   },
   "file_extension": ".py",
   "mimetype": "text/x-python",
   "name": "python",
   "nbconvert_exporter": "python",
   "pygments_lexer": "ipython3",
   "version": "3.12.0"
  }
 },
 "nbformat": 4,
 "nbformat_minor": 4
}